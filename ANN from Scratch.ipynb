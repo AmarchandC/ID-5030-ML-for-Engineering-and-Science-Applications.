{
 "cells": [
  {
   "cell_type": "code",
   "execution_count": 2,
   "metadata": {},
   "outputs": [],
   "source": [
    "import numpy as np\n",
    "import pandas as pd\n",
    "import matplotlib.pyplot as plt\n",
    "from sklearn.metrics import accuracy_score as ACC"
   ]
  },
  {
   "cell_type": "code",
   "execution_count": 124,
   "metadata": {},
   "outputs": [],
   "source": [
    "def sigmoid(z):\n",
    "    return 1/(1 + np.exp(-z))\n",
    "\n",
    "\n",
    "\n",
    "def forward(x, w):   #n2 is the number of neurons in the next layer\n",
    "    #W =  np.ones((n1, n2))\n",
    "    #print(W.shape)\n",
    "    z = x.dot(w)   # m x n2  n2 nodes per each sample\n",
    "    a = sigmoid(z)   # m x n2\n",
    "    return z, a  \n",
    "\n",
    "def backward(x, y, a3, a2, w2, z2):\n",
    "    delta3 = -(y - a3)   # m x1\n",
    "    #print(delta3)  \n",
    "    dw2 = delta3.T.dot(a2)  # should be m*5 \n",
    "    delta2 = (delta3.dot(w2.T))*(np.exp(-z2)/((1+ np.exp(-z2))**2))\n",
    "    dw1 = delta2.T.dot(x)\n",
    "    return dw1, dw2, delta3\n",
    "\n",
    "def update(w, dw, alpha):\n",
    "    w_new= w - alpha*(dw.T)\n",
    "    return w_new\n",
    "\n",
    "def zeroones(y_pred):\n",
    "    a, b = y_pred.shape\n",
    "    for i in range(a):\n",
    "        for j in range(b):\n",
    "            if y_pred[i, j] > 0.5:\n",
    "                y_pred[i, j] = 1\n",
    "            else:\n",
    "                y_pred[i, j] = 0\n",
    "    return y_pred\n",
    "                \n",
    "\n",
    "\n"
   ]
  },
  {
   "cell_type": "markdown",
   "metadata": {},
   "source": []
  },
  {
   "cell_type": "code",
   "execution_count": 83,
   "metadata": {},
   "outputs": [],
   "source": [
    "X = np.array([[1, 0, 0], [1, 0, 1], [1, 1, 0], [1, 1, 1]], dtype = 'float').reshape(4, 3)\n",
    "Y = np.array([0, 1, 1, 0], dtype = 'float').reshape(4,1)"
   ]
  },
  {
   "cell_type": "code",
   "execution_count": 146,
   "metadata": {},
   "outputs": [],
   "source": [
    "n1 = 3\n",
    "n2 = 2\n",
    "n3 = 1\n",
    "\n",
    "w1 =  np.random.randn(n1, n2)\n",
    "w2 =  np.random.randn(n2, n3)\n",
    "\n",
    "loss =[]\n",
    "for i in range(3000000):    \n",
    "    z2, a2 = forward(X, w1)\n",
    "    #print(a2.shape)\n",
    "    z3, a3 = forward(a2, w2)\n",
    "    #print(a3.shape)\n",
    "    #y_hat = zeroones(a3)\n",
    "    dw1, dw2, delta3 = backward(X, Y, a3, a2, w2, z2)\n",
    "    loss.append(sum(abs(delta3)))\n",
    "    #print(dw2.shape)\n",
    "    #print(w2.shape)\n",
    "    #print([w1, w2])\n",
    "    w1 =update(w1, dw1, 0.0005)   # 0.01 is the learning rate.\n",
    "    w2 =update(w2, dw2, 0.0005)\n",
    "  #  print(sum(w1))\n",
    "\n",
    "\n",
    "\n",
    "plt.figure()\n",
    "plt.plot(loss)\n",
    "\n",
    "# Accuracy\n",
    "#print (f'The predicted output is {a3}')\n",
    "y_predicted = zeroones(a3)\n",
    "print(a3)\n",
    "print (f'The accuracy of the model is {ACC(y_predicted, Y)}')"
   ]
  },
  {
   "attachments": {},
   "cell_type": "markdown",
   "metadata": {},
   "source": [
    "Without using Non linearity in the model, the accuracy cannot be increased further. \n",
    "So an additional input feature x1 * x2 is introduced below. and the model is trained again."
   ]
  },
  {
   "cell_type": "code",
   "execution_count": 123,
   "metadata": {},
   "outputs": [
    {
     "name": "stdout",
     "output_type": "stream",
     "text": [
      "[[1.]\n",
      " [1.]\n",
      " [1.]\n",
      " [1.]]\n",
      "The accuracy of the model is 0.5\n"
     ]
    },
    {
     "data": {
      "image/png": "[encoded data removed]",
      "text/plain": [
       "<Figure size 432x288 with 1 Axes>"
      ]
     },
     "metadata": {
      "needs_background": "light"
     },
     "output_type": "display_data"
    }
   ],
   "source": [
    "X2 = np.array([[1, 0, 0, 0], [1, 0, 1, 0], [1, 1, 0, 0], [1, 1, 1, 1]]).reshape(4, 4)\n",
    "\n",
    "n1 = 4\n",
    "n2 = 2\n",
    "n3 = 17\n",
    "\n",
    "w1 =  np.random.randn(n1, n2)\n",
    "w2 =  np.random.randn(n2, n3)\n",
    "\n",
    "loss =[]\n",
    "for i in range(200000):    \n",
    "    z2, a2 = forward(X2, w1)\n",
    "    #print(a2.shape)\n",
    "    z3, a3 = forward(a2, w2)\n",
    "    #print(a3.shape)\n",
    "    #y_hat = zeroones(a3)\n",
    "    dw1, dw2, delta3 = backward(X2, Y, a3, a2, w2, z2)\n",
    "    loss.append(sum(delta3))\n",
    "    #print(dw2.shape)\n",
    "    #print(w2.shape)\n",
    "    #print([w1, w2])\n",
    "    w1 =update(w1, dw1, 0.001)  \n",
    "    w2 =update(w2, dw2, 0.001)\n",
    "  #  print(sum(w1))\n",
    "\n",
    "\n",
    "\n",
    "plt.figure()\n",
    "plt.plot(loss)\n",
    "\n",
    "# Accuracy\n",
    "#print (f'The predicted output is {a3}')\n",
    "y_predicted = zeroones(a3)\n",
    "print(a3)\n",
    "print (f'The accuracy of the model is {ACC(y_predicted, Y)}')"
   ]
  },
  {
   "cell_type": "code",
   "execution_count": null,
   "metadata": {},
   "outputs": [],
   "source": []
  }
 ],
 "metadata": {
  "kernelspec": {
   "display_name": "base",
   "language": "python",
   "name": "python3"
  },
  "language_info": {
   "codemirror_mode": {
    "name": "ipython",
    "version": 3
   },
   "file_extension": ".py",
   "mimetype": "text/x-python",
   "name": "python",
   "nbconvert_exporter": "python",
   "pygments_lexer": "ipython3",
   "version": "3.8.8"
  },
  "orig_nbformat": 4
 },
 "nbformat": 4,
 "nbformat_minor": 2
}
