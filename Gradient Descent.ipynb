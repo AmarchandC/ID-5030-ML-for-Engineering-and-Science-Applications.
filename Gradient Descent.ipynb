{
  "nbformat": 4,
  "nbformat_minor": 0,
  "metadata": {
    "colab": {
      "provenance": []
    },
    "kernelspec": {
      "name": "python3",
      "display_name": "Python 3"
    },
    "language_info": {
      "name": "python"
    }
  },
  "cells": [
    {
      "cell_type": "code",
      "execution_count": 1,
      "metadata": {
        "id": "Xe0MH94KIvxf"
      },
      "outputs": [],
      "source": [
        "import numpy as np\n",
        "import pandas as pd\n",
        "from matplotlib import pyplot as plt\n",
        "from sklearn.model_selection import train_test_split"
      ]
    },
    {
      "cell_type": "code",
      "source": [
        "df = pd.read_excel(\"Concrete_Data.xls\")\n",
        "x = df.iloc[:,:-1].values\n",
        "y = df.iloc[:,-1].values\n",
        "x_train, x_test, y_train, y_test = train_test_split(x, y, test_size=0.3, random_state=0, stratify = None)"
      ],
      "metadata": {
        "id": "MsssakIWJ-cG"
      },
      "execution_count": 2,
      "outputs": []
    },
    {
      "cell_type": "markdown",
      "source": [
        "## **Question 1:** \n",
        "**Part a: Gradient Descend without Normalization**"
      ],
      "metadata": {
        "id": "4l1KlzmAJiZ_"
      }
    },
    {
      "cell_type": "code",
      "source": [
        "# mean square error function\n",
        "m = len(x_train)\n",
        "def mean_sq_err(y_pred, y_true):\n",
        "  mse = sum((y_pred-y_true)**2)/m\n",
        "  return mse\n",
        "\n",
        "\n",
        "# function for gradient descent\n",
        "def grad_desc(x_train, y_train, learning_rate,  iter):\n",
        "  mse_old = None\n",
        "  WEIGHTS = np.ones((iter, 8))\n",
        "  BIAS = []\n",
        "  MSE = np.ones((iter, 2))\n",
        "  weights = np.array(np.random.randn(8))   ## random weight values initiated\n",
        "  bias = np.random.randn()                 ## random bias values initiated\n",
        "  for i in range(iter):\n",
        "    y_pred_train = weights.dot(x_train.T) + bias   \n",
        "    mse = mean_sq_err(y_pred_train, y_train)\n",
        "    mse_old = mse\n",
        "\n",
        "    weight_grad = -2*(sum((y_train-y_pred_train).dot(x_train)))/m    \n",
        "    bias_grad = -2*(sum(y_train-y_pred_train))/m\n",
        "\n",
        "    weights = weights - learning_rate*weight_grad\n",
        "    bias = bias - learning_rate*bias_grad\n",
        "\n",
        "    WEIGHTS[i,] = np.array([weights]).reshape(1, 8)\n",
        "    BIAS = np.append(BIAS, bias)\n",
        "    MSE[i, ] = np.array([i, mse]).reshape(1, 2)\n",
        "\n",
        "  MSE = MSE[:i, ]\n",
        "  WEIGHTS = WEIGHTS[:i, ]\n",
        "  \n",
        "  return WEIGHTS, BIAS, MSE, weights, mse, bias\n",
        "\n",
        "# Prediction function\n",
        "def predict(weights, bias, x):\n",
        "  return np.dot(weights, x.T) + bias\n",
        "\n"
      ],
      "metadata": {
        "id": "5NLvnSPOTVo8"
      },
      "execution_count": 3,
      "outputs": []
    },
    {
      "cell_type": "markdown",
      "source": [
        "**Training the model and calculating the weights with various learning rates**"
      ],
      "metadata": {
        "id": "6V8lWJV1s3b7"
      }
    },
    {
      "cell_type": "code",
      "source": [
        "#W, W_0, MSE, w_current, mse, bias_current = grad_desc(x_train, y_train, learning_rate = 0.0001, iter = 200)\n",
        "\n",
        "alpha1 = 0.1\n",
        "alpha2 = 0.01\n",
        "alpha3 = 0.001\n",
        "iterations_1 = 20000\n",
        "iterations_2 = 20000\n",
        "iterations_3 = 20000\n",
        "\n",
        "W_alpha1, W_0_alpha1, MSE_alpha1, w_current_alpha1, mse_alpha1, bias_current_alpha1 = grad_desc(x_train, y_train, alpha1, iterations_1)\n",
        "\n",
        "W_alpha2, W_0_alpha2, MSE_alpha2, w_current_alpha2, mse_alpha2, bias_current_alpha2 = grad_desc(x_train, y_train, alpha2, iterations_2)\n",
        "\n",
        "W_alpha3, W_0_alpha3, MSE_alpha3, w_current_alpha3, mse_alpha3, bias_current_alpha3 = grad_desc(x_train, y_train, alpha3, iterations_2)\n",
        "\n"
      ],
      "metadata": {
        "colab": {
          "base_uri": "https://localhost:8080/"
        },
        "id": "UzFbP7iGZ6y5",
        "outputId": "40759c08-7450-4d50-d655-316ab6f38c5f"
      },
      "execution_count": 4,
      "outputs": [
        {
          "output_type": "stream",
          "name": "stderr",
          "text": [
            "<ipython-input-3-798e0e665fef>:4: RuntimeWarning: overflow encountered in double_scalars\n",
            "  mse = sum((y_pred-y_true)**2)/m\n",
            "<ipython-input-3-798e0e665fef>:4: RuntimeWarning: overflow encountered in square\n",
            "  mse = sum((y_pred-y_true)**2)/m\n",
            "<ipython-input-3-798e0e665fef>:21: RuntimeWarning: overflow encountered in double_scalars\n",
            "  weight_grad = -2*(sum((y_train-y_pred_train).dot(x_train)))/m\n"
          ]
        }
      ]
    },
    {
      "cell_type": "code",
      "source": [
        "x1 = MSE_alpha1[:, 0]\n",
        "y1 = MSE_alpha1[:, 1]\n",
        "\n",
        "x2 = MSE_alpha2[:, 0]\n",
        "y2 = MSE_alpha2[:, 1]\n",
        "\n",
        "x3 = MSE_alpha3[:, 0]\n",
        "y3 = MSE_alpha3[:, 1]\n",
        "\n",
        "plt.figure\n",
        "plt.plot(x1, y1, label = f'alpha = {alpha1}')\n",
        "plt.plot(x2, y2, label = f'alpha = {alpha2}')\n",
        "plt.plot(x3, y3, label = f'alpha = {alpha3}')\n",
        "\n",
        "plt.legend()\n",
        "plt.xlabel('Iteration')\n",
        "plt.ylabel('MSE')"
      ],
      "metadata": {
        "colab": {
          "base_uri": "https://localhost:8080/",
          "height": 307
        },
        "id": "0ecNoQYeHHdd",
        "outputId": "15149b5b-5ce2-4ea8-8078-27b90e3f6a42"
      },
      "execution_count": 5,
      "outputs": [
        {
          "output_type": "execute_result",
          "data": {
            "text/plain": [
              "Text(0, 0.5, 'MSE')"
            ]
          },
          "metadata": {},
          "execution_count": 5
        },
        {
          "output_type": "display_data",
          "data": {
            "text/plain": [
              "<Figure size 432x288 with 1 Axes>"
            ],
            "image/png": "[encoded data removed]"
          },
          "metadata": {
            "needs_background": "light"
          }
        }
      ]
    },
    {
      "cell_type": "markdown",
      "source": [
        "**Comparison of the results from various learning rates:**\n",
        "\n",
        "---\n",
        "\n",
        "*   Three learning rates (0.1, 0.01, 0.001) were chosen to apply gradient descent (NON-NORMALIZED).\n",
        "*   The weights calcualted by the GD algorithm are reaching extremely high values within a small number of iterations itself, and NaN values are reached.\n",
        "*   The higher weights lead to higher values of Y_predicted, leading to higher mean square error values.\n",
        "*   Because the data is not normalized, for any of the learning rate value, the gradient descent algorithm is not able to minimize the Mean Square error (MSE) and the value of MSE goes very high as a result.\n",
        "\n",
        "*   Given below are the predicted values of Y (output) from the last updated weights (alpha =0.001). The values are NaN, thus conforming that these values converged to infinity!"
      ],
      "metadata": {
        "id": "_1CAnWbWxiMp"
      }
    },
    {
      "cell_type": "code",
      "source": [
        "y_pred1 = predict(w_current_alpha3, bias_current_alpha3, x_test)\n",
        "print(y_pred1)"
      ],
      "metadata": {
        "colab": {
          "base_uri": "https://localhost:8080/"
        },
        "id": "XainntniyT1A",
        "outputId": "b27ee2a2-10d8-485f-d284-53ce333e77d5"
      },
      "execution_count": 6,
      "outputs": [
        {
          "output_type": "stream",
          "name": "stdout",
          "text": [
            "[nan nan nan nan nan nan nan nan nan nan nan nan nan nan nan nan nan nan\n",
            " nan nan nan nan nan nan nan nan nan nan nan nan nan nan nan nan nan nan\n",
            " nan nan nan nan nan nan nan nan nan nan nan nan nan nan nan nan nan nan\n",
            " nan nan nan nan nan nan nan nan nan nan nan nan nan nan nan nan nan nan\n",
            " nan nan nan nan nan nan nan nan nan nan nan nan nan nan nan nan nan nan\n",
            " nan nan nan nan nan nan nan nan nan nan nan nan nan nan nan nan nan nan\n",
            " nan nan nan nan nan nan nan nan nan nan nan nan nan nan nan nan nan nan\n",
            " nan nan nan nan nan nan nan nan nan nan nan nan nan nan nan nan nan nan\n",
            " nan nan nan nan nan nan nan nan nan nan nan nan nan nan nan nan nan nan\n",
            " nan nan nan nan nan nan nan nan nan nan nan nan nan nan nan nan nan nan\n",
            " nan nan nan nan nan nan nan nan nan nan nan nan nan nan nan nan nan nan\n",
            " nan nan nan nan nan nan nan nan nan nan nan nan nan nan nan nan nan nan\n",
            " nan nan nan nan nan nan nan nan nan nan nan nan nan nan nan nan nan nan\n",
            " nan nan nan nan nan nan nan nan nan nan nan nan nan nan nan nan nan nan\n",
            " nan nan nan nan nan nan nan nan nan nan nan nan nan nan nan nan nan nan\n",
            " nan nan nan nan nan nan nan nan nan nan nan nan nan nan nan nan nan nan\n",
            " nan nan nan nan nan nan nan nan nan nan nan nan nan nan nan nan nan nan\n",
            " nan nan nan]\n"
          ]
        }
      ]
    },
    {
      "cell_type": "markdown",
      "source": [
        "### **Part b: Batch Gradient Descent using Normalization** "
      ],
      "metadata": {
        "id": "WuJbBpTx6HqE"
      }
    },
    {
      "cell_type": "markdown",
      "source": [
        "**Normalization**"
      ],
      "metadata": {
        "id": "IAvH1jS9ZFrV"
      }
    },
    {
      "cell_type": "code",
      "source": [
        "dataset = df\n",
        "normalized_dataset = dataset.apply(lambda val: (val -val.min())/(val.max() - val.min()), axis = 0)                 #)(dataset - np.min(dataset)) / (np.max(dataset) - np.min(dataset))\n",
        "#normalized_dataset = dataset.apply(lambda rec: (rec-rec.mean())/rec.std(), axis = 0)\n",
        "x_n =normalized_dataset.iloc[:,:-1].values\n",
        "y_n = normalized_dataset.iloc[:,-1].values\n",
        "normalized_dataset.head()"
      ],
      "metadata": {
        "colab": {
          "base_uri": "https://localhost:8080/",
          "height": 302
        },
        "id": "8XOWME_y7Qth",
        "outputId": "bb2fe800-6ebb-4a64-9087-237727ab76e0"
      },
      "execution_count": 7,
      "outputs": [
        {
          "output_type": "execute_result",
          "data": {
            "text/plain": [
              "   Cement (component 1)(kg in a m^3 mixture)  \\\n",
              "0                                   1.000000   \n",
              "1                                   1.000000   \n",
              "2                                   0.526256   \n",
              "3                                   0.526256   \n",
              "4                                   0.220548   \n",
              "\n",
              "   Blast Furnace Slag (component 2)(kg in a m^3 mixture)  \\\n",
              "0                                           0.000000       \n",
              "1                                           0.000000       \n",
              "2                                           0.396494       \n",
              "3                                           0.396494       \n",
              "4                                           0.368392       \n",
              "\n",
              "   Fly Ash (component 3)(kg in a m^3 mixture)  \\\n",
              "0                                         0.0   \n",
              "1                                         0.0   \n",
              "2                                         0.0   \n",
              "3                                         0.0   \n",
              "4                                         0.0   \n",
              "\n",
              "   Water  (component 4)(kg in a m^3 mixture)  \\\n",
              "0                                   0.321357   \n",
              "1                                   0.321357   \n",
              "2                                   0.848303   \n",
              "3                                   0.848303   \n",
              "4                                   0.560878   \n",
              "\n",
              "   Superplasticizer (component 5)(kg in a m^3 mixture)  \\\n",
              "0                                            0.07764     \n",
              "1                                            0.07764     \n",
              "2                                            0.00000     \n",
              "3                                            0.00000     \n",
              "4                                            0.00000     \n",
              "\n",
              "   Coarse Aggregate  (component 6)(kg in a m^3 mixture)  \\\n",
              "0                                           0.694767      \n",
              "1                                           0.738372      \n",
              "2                                           0.380814      \n",
              "3                                           0.380814      \n",
              "4                                           0.515698      \n",
              "\n",
              "   Fine Aggregate (component 7)(kg in a m^3 mixture)  Age (day)  \\\n",
              "0                                           0.205720   0.074176   \n",
              "1                                           0.205720   0.074176   \n",
              "2                                           0.000000   0.739011   \n",
              "3                                           0.000000   1.000000   \n",
              "4                                           0.580783   0.986264   \n",
              "\n",
              "   Concrete compressive strength(MPa, megapascals)   \n",
              "0                                          0.967445  \n",
              "1                                          0.741964  \n",
              "2                                          0.472642  \n",
              "3                                          0.482400  \n",
              "4                                          0.522806  "
            ],
            "text/html": [
              "\n",
              "  <div id=\"df-39236963-5b5c-4412-88ed-76592f82ebfb\">\n",
              "    <div class=\"colab-df-container\">\n",
              "      <div>\n",
              "<style scoped>\n",
              "    .dataframe tbody tr th:only-of-type {\n",
              "        vertical-align: middle;\n",
              "    }\n",
              "\n",
              "    .dataframe tbody tr th {\n",
              "        vertical-align: top;\n",
              "    }\n",
              "\n",
              "    .dataframe thead th {\n",
              "        text-align: right;\n",
              "    }\n",
              "</style>\n",
              "<table border=\"1\" class=\"dataframe\">\n",
              "  <thead>\n",
              "    <tr style=\"text-align: right;\">\n",
              "      <th></th>\n",
              "      <th>Cement (component 1)(kg in a m^3 mixture)</th>\n",
              "      <th>Blast Furnace Slag (component 2)(kg in a m^3 mixture)</th>\n",
              "      <th>Fly Ash (component 3)(kg in a m^3 mixture)</th>\n",
              "      <th>Water  (component 4)(kg in a m^3 mixture)</th>\n",
              "      <th>Superplasticizer (component 5)(kg in a m^3 mixture)</th>\n",
              "      <th>Coarse Aggregate  (component 6)(kg in a m^3 mixture)</th>\n",
              "      <th>Fine Aggregate (component 7)(kg in a m^3 mixture)</th>\n",
              "      <th>Age (day)</th>\n",
              "      <th>Concrete compressive strength(MPa, megapascals)</th>\n",
              "    </tr>\n",
              "  </thead>\n",
              "  <tbody>\n",
              "    <tr>\n",
              "      <th>0</th>\n",
              "      <td>1.000000</td>\n",
              "      <td>0.000000</td>\n",
              "      <td>0.0</td>\n",
              "      <td>0.321357</td>\n",
              "      <td>0.07764</td>\n",
              "      <td>0.694767</td>\n",
              "      <td>0.205720</td>\n",
              "      <td>0.074176</td>\n",
              "      <td>0.967445</td>\n",
              "    </tr>\n",
              "    <tr>\n",
              "      <th>1</th>\n",
              "      <td>1.000000</td>\n",
              "      <td>0.000000</td>\n",
              "      <td>0.0</td>\n",
              "      <td>0.321357</td>\n",
              "      <td>0.07764</td>\n",
              "      <td>0.738372</td>\n",
              "      <td>0.205720</td>\n",
              "      <td>0.074176</td>\n",
              "      <td>0.741964</td>\n",
              "    </tr>\n",
              "    <tr>\n",
              "      <th>2</th>\n",
              "      <td>0.526256</td>\n",
              "      <td>0.396494</td>\n",
              "      <td>0.0</td>\n",
              "      <td>0.848303</td>\n",
              "      <td>0.00000</td>\n",
              "      <td>0.380814</td>\n",
              "      <td>0.000000</td>\n",
              "      <td>0.739011</td>\n",
              "      <td>0.472642</td>\n",
              "    </tr>\n",
              "    <tr>\n",
              "      <th>3</th>\n",
              "      <td>0.526256</td>\n",
              "      <td>0.396494</td>\n",
              "      <td>0.0</td>\n",
              "      <td>0.848303</td>\n",
              "      <td>0.00000</td>\n",
              "      <td>0.380814</td>\n",
              "      <td>0.000000</td>\n",
              "      <td>1.000000</td>\n",
              "      <td>0.482400</td>\n",
              "    </tr>\n",
              "    <tr>\n",
              "      <th>4</th>\n",
              "      <td>0.220548</td>\n",
              "      <td>0.368392</td>\n",
              "      <td>0.0</td>\n",
              "      <td>0.560878</td>\n",
              "      <td>0.00000</td>\n",
              "      <td>0.515698</td>\n",
              "      <td>0.580783</td>\n",
              "      <td>0.986264</td>\n",
              "      <td>0.522806</td>\n",
              "    </tr>\n",
              "  </tbody>\n",
              "</table>\n",
              "</div>\n",
              "      <button class=\"colab-df-convert\" onclick=\"convertToInteractive('df-39236963-5b5c-4412-88ed-76592f82ebfb')\"\n",
              "              title=\"Convert this dataframe to an interactive table.\"\n",
              "              style=\"display:none;\">\n",
              "        \n",
              "  <svg xmlns=\"http://www.w3.org/2000/svg\" height=\"24px\"viewBox=\"0 0 24 24\"\n",
              "       width=\"24px\">\n",
              "    <path d=\"M0 0h24v24H0V0z\" fill=\"none\"/>\n",
              "    <path d=\"M18.56 5.44l.94 2.06.94-2.06 2.06-.94-2.06-.94-.94-2.06-.94 2.06-2.06.94zm-11 1L8.5 8.5l.94-2.06 2.06-.94-2.06-.94L8.5 2.5l-.94 2.06-2.06.94zm10 10l.94 2.06.94-2.06 2.06-.94-2.06-.94-.94-2.06-.94 2.06-2.06.94z\"/><path d=\"M17.41 7.96l-1.37-1.37c-.4-.4-.92-.59-1.43-.59-.52 0-1.04.2-1.43.59L10.3 9.45l-7.72 7.72c-.78.78-.78 2.05 0 2.83L4 21.41c.39.39.9.59 1.41.59.51 0 1.02-.2 1.41-.59l7.78-7.78 2.81-2.81c.8-.78.8-2.07 0-2.86zM5.41 20L4 18.59l7.72-7.72 1.47 1.35L5.41 20z\"/>\n",
              "  </svg>\n",
              "      </button>\n",
              "      \n",
              "  <style>\n",
              "    .colab-df-container {\n",
              "      display:flex;\n",
              "      flex-wrap:wrap;\n",
              "      gap: 12px;\n",
              "    }\n",
              "\n",
              "    .colab-df-convert {\n",
              "      background-color: #E8F0FE;\n",
              "      border: none;\n",
              "      border-radius: 50%;\n",
              "      cursor: pointer;\n",
              "      display: none;\n",
              "      fill: #1967D2;\n",
              "      height: 32px;\n",
              "      padding: 0 0 0 0;\n",
              "      width: 32px;\n",
              "    }\n",
              "\n",
              "    .colab-df-convert:hover {\n",
              "      background-color: #E2EBFA;\n",
              "      box-shadow: 0px 1px 2px rgba(60, 64, 67, 0.3), 0px 1px 3px 1px rgba(60, 64, 67, 0.15);\n",
              "      fill: #174EA6;\n",
              "    }\n",
              "\n",
              "    [theme=dark] .colab-df-convert {\n",
              "      background-color: #3B4455;\n",
              "      fill: #D2E3FC;\n",
              "    }\n",
              "\n",
              "    [theme=dark] .colab-df-convert:hover {\n",
              "      background-color: #434B5C;\n",
              "      box-shadow: 0px 1px 3px 1px rgba(0, 0, 0, 0.15);\n",
              "      filter: drop-shadow(0px 1px 2px rgba(0, 0, 0, 0.3));\n",
              "      fill: #FFFFFF;\n",
              "    }\n",
              "  </style>\n",
              "\n",
              "      <script>\n",
              "        const buttonEl =\n",
              "          document.querySelector('#df-39236963-5b5c-4412-88ed-76592f82ebfb button.colab-df-convert');\n",
              "        buttonEl.style.display =\n",
              "          google.colab.kernel.accessAllowed ? 'block' : 'none';\n",
              "\n",
              "        async function convertToInteractive(key) {\n",
              "          const element = document.querySelector('#df-39236963-5b5c-4412-88ed-76592f82ebfb');\n",
              "          const dataTable =\n",
              "            await google.colab.kernel.invokeFunction('convertToInteractive',\n",
              "                                                     [key], {});\n",
              "          if (!dataTable) return;\n",
              "\n",
              "          const docLinkHtml = 'Like what you see? Visit the ' +\n",
              "            '<a target=\"_blank\" href=https://colab.research.google.com/notebooks/data_table.ipynb>data table notebook</a>'\n",
              "            + ' to learn more about interactive tables.';\n",
              "          element.innerHTML = '';\n",
              "          dataTable['output_type'] = 'display_data';\n",
              "          await google.colab.output.renderOutput(dataTable, element);\n",
              "          const docLink = document.createElement('div');\n",
              "          docLink.innerHTML = docLinkHtml;\n",
              "          element.appendChild(docLink);\n",
              "        }\n",
              "      </script>\n",
              "    </div>\n",
              "  </div>\n",
              "  "
            ]
          },
          "metadata": {},
          "execution_count": 7
        }
      ]
    },
    {
      "cell_type": "code",
      "source": [
        "x_train_n, x_test_n, y_train_n, y_test_n = train_test_split(x_n, y_n, test_size=0.3, random_state=0, stratify = None)"
      ],
      "metadata": {
        "id": "a6NmoBIV7Osi"
      },
      "execution_count": 8,
      "outputs": []
    },
    {
      "cell_type": "code",
      "source": [
        "alpha1 = 0.01\n",
        "alpha2 = 0.001\n",
        "alpha3 = 0.0001\n",
        "iterations_1 = 10000\n",
        "iterations_2 = 10000\n",
        "iterations_3 = 10000"
      ],
      "metadata": {
        "id": "tVIUUFP7YabU"
      },
      "execution_count": 9,
      "outputs": []
    },
    {
      "cell_type": "code",
      "source": [
        "W_alpha1, W_0_alpha1, MSE_alpha1, w_current_alpha1, mse_alpha1, bias_current_alpha1 = grad_desc(x_train_n, y_train_n, alpha1, iterations_1)\n",
        "\n",
        "W_alpha2, W_0_alpha2, MSE_alpha2, w_current_alpha2, mse_alpha2, bias_current_alpha2 = grad_desc(x_train_n, y_train_n, alpha2, iterations_2)\n",
        "\n",
        "W_alpha3, W_0_alpha3, MSE_alpha3, w_current_alpha3, mse_alpha3, bias_current_alpha3 = grad_desc(x_train_n, y_train_n, alpha3, iterations_2)\n"
      ],
      "metadata": {
        "id": "RYAENgVYV-CS"
      },
      "execution_count": 10,
      "outputs": []
    },
    {
      "cell_type": "code",
      "source": [
        "plt.figure\n",
        "x1 = MSE_alpha1[:, 0]\n",
        "y1 = MSE_alpha1[:, 1]\n",
        "\n",
        "x2 = MSE_alpha2[:, 0]\n",
        "y2 = MSE_alpha2[:, 1]\n",
        "\n",
        "x3 = MSE_alpha3[:, 0]\n",
        "y3 = MSE_alpha3[:, 1]\n",
        "\n",
        "plt.figure\n",
        "plt.plot(x1, y1, label = f'alpha = {alpha1}')\n",
        "plt.plot(x2, y2, label = f'alpha = {alpha2}')\n",
        "plt.plot(x3, y3, label = f'alpha = {alpha3}')\n",
        "plt.xlabel('iteration')\n",
        "plt.ylabel('MSE')\n",
        "plt.legend()\n"
      ],
      "metadata": {
        "colab": {
          "base_uri": "https://localhost:8080/",
          "height": 296
        },
        "id": "8tGnbrRBWF5d",
        "outputId": "5d2d9f5a-8504-4fa9-98c0-c79253046120"
      },
      "execution_count": 11,
      "outputs": [
        {
          "output_type": "execute_result",
          "data": {
            "text/plain": [
              "<matplotlib.legend.Legend at 0x7f7f4d9c3070>"
            ]
          },
          "metadata": {},
          "execution_count": 11
        },
        {
          "output_type": "display_data",
          "data": {
            "text/plain": [
              "<Figure size 432x288 with 1 Axes>"
            ],
            "image/png": "[encoded data removed]"
          },
          "metadata": {
            "needs_background": "light"
          }
        }
      ]
    },
    {
      "cell_type": "code",
      "source": [
        "# Final weights calculated for the three learning rates are:\n",
        "print(w_current_alpha1)\n",
        "print(w_current_alpha2)\n",
        "print(w_current_alpha3)"
      ],
      "metadata": {
        "colab": {
          "base_uri": "https://localhost:8080/"
        },
        "id": "r1RO5wrN4nwe",
        "outputId": "0a602b76-aa94-465c-a3c1-30c9a86c5d59"
      },
      "execution_count": 12,
      "outputs": [
        {
          "output_type": "stream",
          "name": "stdout",
          "text": [
            "[-0.63609629 -1.01840338  0.25098485  0.51624709  1.15076365  1.89642098\n",
            " -0.80991027 -1.59824853]\n",
            "[ 1.2667035  -0.06338684 -1.32337469  0.98648628  0.6840679  -0.04521643\n",
            " -0.54373638  0.54315263]\n",
            "[-1.13045023  1.36871175 -0.39589821  1.12670946 -0.51090879  0.31702534\n",
            " -0.24036662 -0.97433042]\n"
          ]
        }
      ]
    },
    {
      "cell_type": "markdown",
      "source": [
        "**Comparison of the results from various learning rates:**\n",
        "\n",
        "---\n",
        "\n",
        "*   Three learning rates (0.01, 0.001, 0.0001) were chosen to apply gradient descent (NON-NORMALIZED).\n",
        "*   alpha = 0.01 gave the highest MSE value after convergence. \n",
        "*   By reducing the alpha value to 0.001, MSE decreased, but decreasing the alpha value further increased the MSE. \n",
        "*  Therefore, Learning rate (alpha) = 0.001 is the optimal value in this case.\n",
        "---\n",
        "The effect of normalization is clearly visible here. Just by normalizing the data, the same model is able to minimize the MSE and find the optimal weights for the data."
      ],
      "metadata": {
        "id": "SMiqeA2N4gMj"
      }
    },
    {
      "cell_type": "code",
      "source": [],
      "metadata": {
        "id": "pTp37iDY-om-"
      },
      "execution_count": 12,
      "outputs": []
    },
    {
      "cell_type": "markdown",
      "source": [
        "##Part c: Gradient descent with the help of pytorch\n"
      ],
      "metadata": {
        "id": "w6EnM2dlEc53"
      }
    },
    {
      "cell_type": "markdown",
      "source": [
        "**C-1: without Normalization**"
      ],
      "metadata": {
        "id": "kiVpD4yR9er8"
      }
    },
    {
      "cell_type": "code",
      "source": [
        "import torch\n",
        "from torch.utils.data import TensorDataset\n",
        "from torch.utils.data import DataLoader"
      ],
      "metadata": {
        "id": "yX_5WPpXgyfj"
      },
      "execution_count": 13,
      "outputs": []
    },
    {
      "cell_type": "code",
      "source": [
        "x_train_tns = torch.from_numpy(x_train).to(torch.float32)\n",
        "y_train_tns = torch.from_numpy(y_train).to(torch.float32)\n",
        "\n",
        "x_train_tns = x_train_tns.float()\n",
        "y_train_tns = y_train_tns.float()\n",
        "\n",
        "w = torch.randn(8,1, requires_grad=True).to(torch.float32)\n",
        "b = torch.randn(1, requires_grad=True).to(torch.float32)\n",
        "w = w.float()\n",
        "b = b.float()\n",
        "\n",
        "print(w.shape)\n",
        "print(b.shape)\n",
        "# defining the function for forward pass for prediction\n",
        "def forward(input):\n",
        "    return w.T@ input.T + b #w.dot(input)  + b \n",
        "  \n",
        "# evaluating data points with Mean Square Error (MSE)\n",
        "def criterion(y_pred, y):\n",
        "    return torch.mean((y_pred - y) ** 2)\n",
        "\n",
        "\n",
        "\n",
        "step_size= 0.001\n",
        "n_iter = 10000\n",
        "loss_BGD = []\n",
        "for i in range (n_iter):\n",
        "    # making predictions with forward pass\n",
        "    Y_pred = forward(x_train_tns)\n",
        "    # calculating the loss between original and predicted data points\n",
        "    loss = criterion(Y_pred, y_train_tns)\n",
        "    # storing the calculated loss in a list\n",
        "    loss_BGD.append(loss.item())\n",
        "    # backward pass for computing the gradients of the loss w.r.t to learnable parameters\n",
        "    loss.backward()\n",
        "    # updateing the parameters after each iteration\n",
        "    w.data = w.data - step_size * w.grad.data\n",
        "    b.data = b.data - step_size * b.grad.data\n",
        "    # zeroing gradients after each iteration\n",
        "    w.grad.data.zero_()\n",
        "    b.grad.data.zero_()\n",
        "    # priting the values for understanding\n",
        "   # print('{}, \\t{}, \\t{}, \\t{}'.format(i, loss.item(), w.item(), b.item()))\n",
        "print(w)\n",
        "print(b)\n",
        "\n",
        "plt.figure\n",
        "plt.plot(loss_BGD)\n",
        "plt.xlabel('iteration')\n",
        "plt.ylabel('MSE')"
      ],
      "metadata": {
        "colab": {
          "base_uri": "https://localhost:8080/",
          "height": 498
        },
        "id": "zQs3FKZLBTZz",
        "outputId": "9181a9be-4123-4930-9ac0-d90307c69374"
      },
      "execution_count": 14,
      "outputs": [
        {
          "output_type": "stream",
          "name": "stdout",
          "text": [
            "torch.Size([8, 1])\n",
            "torch.Size([1])\n",
            "tensor([[nan],\n",
            "        [nan],\n",
            "        [nan],\n",
            "        [nan],\n",
            "        [nan],\n",
            "        [nan],\n",
            "        [nan],\n",
            "        [nan]], requires_grad=True)\n",
            "tensor([nan], requires_grad=True)\n"
          ]
        },
        {
          "output_type": "execute_result",
          "data": {
            "text/plain": [
              "Text(0, 0.5, 'MSE')"
            ]
          },
          "metadata": {},
          "execution_count": 14
        },
        {
          "output_type": "display_data",
          "data": {
            "text/plain": [
              "<Figure size 432x288 with 1 Axes>"
            ],
            "image/png": "[encoded data removed]"
          },
          "metadata": {
            "needs_background": "light"
          }
        }
      ]
    },
    {
      "cell_type": "markdown",
      "source": [
        "**C-1: with Normalization**"
      ],
      "metadata": {
        "id": "BzRI3_RegU-4"
      }
    },
    {
      "cell_type": "code",
      "source": [
        "x_train_n_tns = torch.from_numpy(x_train_n).to(torch.float32)\n",
        "y_train_n_tns = torch.from_numpy(y_train_n).to(torch.float32)\n",
        "\n",
        "x_train_tns = x_train_n_tns.float()\n",
        "y_train_tns = y_train_n_tns.float()\n",
        "\n",
        "w = torch.randn(8,1, requires_grad=True).to(torch.float32)\n",
        "b = torch.randn(1, requires_grad=True).to(torch.float32)\n",
        "w = w.float()\n",
        "b = b.float()\n",
        "\n",
        "print(w.shape)\n",
        "print(b.shape)\n",
        "# defining the function for forward pass for prediction\n",
        "def forward(input):\n",
        "    return w.T@ input.T + b #w.dot(input)  + b \n",
        "  \n",
        "# evaluating data points with Mean Square Error (MSE)\n",
        "def criterion(y_pred, y):\n",
        "    return torch.mean((y_pred - y) ** 2)\n",
        "\n",
        "\n",
        "\n",
        "step_size= 0.001\n",
        "n_iter = 30000\n",
        "loss_BGD = []\n",
        "for i in range (n_iter):\n",
        "    # making predictions with forward pass\n",
        "    Y_pred = forward(x_train_tns)\n",
        "    # calculating the loss between original and predicted data points\n",
        "    loss = criterion(Y_pred, y_train_tns)\n",
        "    # storing the calculated loss in a list\n",
        "    loss_BGD.append(loss.item())\n",
        "    # backward pass for computing the gradients of the loss w.r.t to learnable parameters\n",
        "    loss.backward()\n",
        "    # updateing the parameters after each iteration\n",
        "    w.data = w.data - step_size * w.grad.data\n",
        "    b.data = b.data - step_size * b.grad.data\n",
        "    # zeroing gradients after each iteration\n",
        "    w.grad.data.zero_()\n",
        "    b.grad.data.zero_()\n",
        "    # priting the values for understanding\n",
        "   # print('{}, \\t{}, \\t{}, \\t{}'.format(i, loss.item(), w.item(), b.item()))\n",
        "print(w)\n",
        "print(b)\n",
        "\n",
        "plt.figure\n",
        "plt.plot(loss_BGD)\n",
        "plt.xlabel('iteration')\n",
        "plt.ylabel('MSE')"
      ],
      "metadata": {
        "colab": {
          "base_uri": "https://localhost:8080/",
          "height": 487
        },
        "outputId": "5ee621de-f7c4-4445-c1f5-31fd7abeed91",
        "id": "mSBzI6sMgU-4"
      },
      "execution_count": 15,
      "outputs": [
        {
          "output_type": "stream",
          "name": "stdout",
          "text": [
            "torch.Size([8, 1])\n",
            "torch.Size([1])\n",
            "tensor([[ 0.3599],\n",
            "        [ 0.1261],\n",
            "        [ 0.0184],\n",
            "        [-0.4735],\n",
            "        [ 0.0909],\n",
            "        [-0.1812],\n",
            "        [-0.2673],\n",
            "        [ 0.2961]], requires_grad=True)\n",
            "tensor([0.6219], requires_grad=True)\n"
          ]
        },
        {
          "output_type": "execute_result",
          "data": {
            "text/plain": [
              "Text(0, 0.5, 'MSE')"
            ]
          },
          "metadata": {},
          "execution_count": 15
        },
        {
          "output_type": "display_data",
          "data": {
            "text/plain": [
              "<Figure size 432x288 with 1 Axes>"
            ],
            "image/png": "[encoded data removed]"
          },
          "metadata": {
            "needs_background": "light"
          }
        }
      ]
    },
    {
      "cell_type": "markdown",
      "source": [
        "Pytorch was used to do batch gradient descent with and without normalization.\n",
        "---\n",
        "Wihtout Normalization\n",
        "*   For the data without normalization the same situation as in question 1 occurred. The mean square error exploded to infinite values as the iterations went high. For different learning rates as well, optimal weights could not be found.\n",
        "---  \n",
        "With Normalization\n",
        "\n",
        "* The algorithm is able to find the optimum weights and minimize the mean square error for different learning rates (0.1, 0.001, 0.0001).\n",
        "* 0.001 was found to be the optimal learning rate.   \n",
        "\n"
      ],
      "metadata": {
        "id": "oHgGZziShSOX"
      }
    },
    {
      "cell_type": "code",
      "source": [],
      "metadata": {
        "id": "mzd52dygjpHx"
      },
      "execution_count": 15,
      "outputs": []
    },
    {
      "cell_type": "code",
      "source": [],
      "metadata": {
        "id": "9yJMGLF1jpEL"
      },
      "execution_count": 15,
      "outputs": []
    },
    {
      "cell_type": "code",
      "source": [],
      "metadata": {
        "id": "byXp7d34jo99"
      },
      "execution_count": 15,
      "outputs": []
    },
    {
      "cell_type": "code",
      "source": [],
      "metadata": {
        "id": "ICAu3v9KjozJ"
      },
      "execution_count": 15,
      "outputs": []
    },
    {
      "cell_type": "markdown",
      "source": [
        "##**Question 2**\n",
        "\n",
        "**Part 1. Stochastic Gradient Descent: From Scratch**"
      ],
      "metadata": {
        "id": "w_CArif0Jp_H"
      }
    },
    {
      "cell_type": "code",
      "source": [
        "# function for Stochastic Gradient Descent\n",
        "def sgd_scratch(x, y, learning_rate, iter):\n",
        "  m= 721\n",
        "  n = 8\n",
        "  theta = np.random.randn(n).reshape((1,n))\n",
        "  bias = np.random.randn()\n",
        "  ITER =np.zeros(iter)\n",
        "  MSE = np.zeros(iter)\n",
        "  for i in range(iter):\n",
        "    mse = 0.0 \n",
        "    for k in range(n):     \n",
        "      j= np.random.randint(0,n)\n",
        "      x_j = x[j,:].reshape((1, n))\n",
        "      y_pred = sum(x_j.dot(theta.T)) + bias\n",
        "      error = (y_pred-y[j])**2\n",
        "      theta_gradient = -2*(y[j]-y_pred)*x[j].T\n",
        "      bias_gradient = -2*(y[j]-y_pred)\n",
        "      theta = theta -learning_rate * theta_gradient\n",
        "      bias = bias - learning_rate * bias_gradient\n",
        "      mse += error\n",
        "    MSE[i] = mse\n",
        "    ITER[i] =i\n",
        "  return theta, bias, MSE, ITER"
      ],
      "metadata": {
        "id": "xhTrA8FsJnMO"
      },
      "execution_count": 16,
      "outputs": []
    },
    {
      "cell_type": "code",
      "source": [
        "alpha1 = 0.01\n",
        "alpha2 = 0.001\n",
        "alpha3 = 0.0001\n",
        "iterations_1 = 1200\n",
        "iterations_2 = 1200\n",
        "iterations_3 = 1200\n",
        "\n",
        "w_current_alpha1, bias_current_alpha1, MSE_alpha1, ITER_alpha1  = sgd_scratch(x_train_n, y_train_n, alpha1, iterations_1)\n",
        "\n",
        "w_current_alpha2, bias_current_alpha2, MSE_alpha2, ITER_alpha2 = sgd_scratch(x_train_n, y_train_n, alpha2, iterations_2)\n",
        "\n",
        "w_current_alpha3, bias_current_alpha3, MSE_alpha3, ITER_alpha3 = sgd_scratch(x_train_n, y_train_n, alpha3, iterations_3)\n",
        "\n",
        "\n",
        "x1 = ITER_alpha1\n",
        "y1 = MSE_alpha1\n",
        "x2 = ITER_alpha2\n",
        "y2 = MSE_alpha2\n",
        "\n",
        "x3 = ITER_alpha3\n",
        "y3 = MSE_alpha3\n",
        "\n",
        "plt.figure\n",
        "plt.plot(y1, label = f'alpha = {alpha1}')\n",
        "plt.plot(y2, label = f'alpha = {alpha2}')\n",
        "plt.plot(y3, label = f'alpha = {alpha3}')\n",
        "plt.legend()\n",
        "plt.xlabel('iteration')\n",
        "plt.ylabel('MSE')"
      ],
      "metadata": {
        "id": "KVZNHG-7RcCn",
        "colab": {
          "base_uri": "https://localhost:8080/",
          "height": 300
        },
        "outputId": "280cac80-8526-48df-e2e0-c9fec1dc0ac3"
      },
      "execution_count": 17,
      "outputs": [
        {
          "output_type": "execute_result",
          "data": {
            "text/plain": [
              "Text(0, 0.5, 'MSE')"
            ]
          },
          "metadata": {},
          "execution_count": 17
        },
        {
          "output_type": "display_data",
          "data": {
            "text/plain": [
              "<Figure size 432x288 with 1 Axes>"
            ],
            "image/png": "[encoded data removed]"
          },
          "metadata": {
            "needs_background": "light"
          }
        }
      ]
    },
    {
      "cell_type": "markdown",
      "source": [
        "\n",
        "* The algorithm is able to find the optimum weights and minimize the mean square error for different learning rates (0.1, 0.001, 0.0001).\n",
        "* 0.01 was found to be the optimal learning rate as the mean square error is lowest in this case. But the learning rate 0.001 also gives similar result."
      ],
      "metadata": {
        "id": "Pz8eol6mklfB"
      }
    },
    {
      "cell_type": "markdown",
      "source": [
        "**Part 2. Stochastic gradient descend using Pytorch**"
      ],
      "metadata": {
        "id": "0VzHfnZmXg6W"
      }
    },
    {
      "cell_type": "code",
      "source": [
        "import torch\n",
        "\n",
        "x_train_n_p = torch.from_numpy(x_train_n).to(torch.float32)\n",
        "y_train_n_p = torch.from_numpy(y_train_n).to(torch.float32)\n",
        "# Defining the model\n",
        "model = torch.nn.Linear(8, 1, bias=True)\n",
        "\n",
        "# Defining the loss function: Mean Square Error\n",
        "criterion = torch.nn.MSELoss()\n",
        "\n",
        "learning_rate = 0.01\n",
        "# Optimizer: Stochastic Gradient Descent\n",
        "optimizer = torch.optim.SGD(model.parameters(), lr=learning_rate)\n",
        "num_epochs = 3000\n",
        "\n",
        "\n",
        "# Train the model\n",
        "loss_history = []\n",
        "epochs =[]\n",
        "for epoch in range(num_epochs):\n",
        "  \n",
        "  predictions = model(x_train_n_p)\n",
        "\n",
        "  loss = criterion(predictions, y_train_n_p)\n",
        "    \n",
        "    # Zero the gradients\n",
        "  optimizer.zero_grad()\n",
        "    \n",
        "    # Compute the gradients\n",
        "  loss.backward()\n",
        "    \n",
        "    # Update the model parameters\n",
        "  optimizer.step()\n",
        "  loss_history.append(loss.item())\n",
        "\n",
        "plt.figure;\n",
        "plt.plot(loss_history)\n",
        "plt.xlabel('iteration')\n",
        "plt.ylabel('MSE')"
      ],
      "metadata": {
        "id": "Sk1LultGXkLb",
        "colab": {
          "base_uri": "https://localhost:8080/",
          "height": 351
        },
        "outputId": "1ed6a6bd-8bcc-465d-eb7c-e9fc4b9e67bb"
      },
      "execution_count": 18,
      "outputs": [
        {
          "output_type": "stream",
          "name": "stderr",
          "text": [
            "/usr/local/lib/python3.8/dist-packages/torch/nn/modules/loss.py:536: UserWarning: Using a target size (torch.Size([721])) that is different to the input size (torch.Size([721, 1])). This will likely lead to incorrect results due to broadcasting. Please ensure they have the same size.\n",
            "  return F.mse_loss(input, target, reduction=self.reduction)\n"
          ]
        },
        {
          "output_type": "execute_result",
          "data": {
            "text/plain": [
              "Text(0, 0.5, 'MSE')"
            ]
          },
          "metadata": {},
          "execution_count": 18
        },
        {
          "output_type": "display_data",
          "data": {
            "text/plain": [
              "<Figure size 432x288 with 1 Axes>"
            ],
            "image/png": "[encoded data removed]"
          },
          "metadata": {
            "needs_background": "light"
          }
        }
      ]
    },
    {
      "cell_type": "markdown",
      "source": [
        "* The algorithm is able to find the optimum weights and minimize the mean square error for different learning rates.\n",
        "* 0.01 was found to be the optimal learning rate as the mean square error is lowest in this case."
      ],
      "metadata": {
        "id": "5271QM4kozdB"
      }
    },
    {
      "cell_type": "markdown",
      "source": [
        "** Part3: Minibatch gradient descend from scratch with normalized data**"
      ],
      "metadata": {
        "id": "-lLBXMWPyRIK"
      }
    },
    {
      "cell_type": "code",
      "source": [
        "def minibatch_scratch(x, y, learning_rate, iter):\n",
        "  m= x_train_n.shape[0]\n",
        "  n = x_train_n.shape[1]\n",
        "  batch_size = 10\n",
        "  theta = np.zeros(n).reshape((1,n))\n",
        "  bias = np.random.randn()\n",
        "  ITER =np.zeros(iter)\n",
        "  MSE = np.zeros(iter)\n",
        "  for i in range(iter):\n",
        "    mse = 0.0 \n",
        "    for k in range(n):     \n",
        "      j= np.random.randint(0,n)  \n",
        "      X = x[j:j+batch_size,:]\n",
        "  #    print(X.shape)\n",
        "      Y = y[j:j+ batch_size].reshape((batch_size, 1))\n",
        "    #  print(Y.shape)\n",
        "      y_pred = np.dot(X, theta.T) + bias*np.ones((batch_size, 1))\n",
        "  #    print(y_pred.shape)\n",
        "      error = sum((y_pred-Y)**2)/batch_size\n",
        "  #    print(error.shape)\n",
        "      theta_gradient = -2*(Y-y_pred).T.dot(X)\n",
        "      bias_gradient = -2*(Y-y_pred)\n",
        "      theta = theta -learning_rate * theta_gradient\n",
        "      bias = bias - learning_rate * bias_gradient\n",
        "      mse += error\n",
        "    MSE[i] = mse\n",
        "    ITER[i] =i\n",
        "  return theta, bias, MSE, ITER"
      ],
      "metadata": {
        "id": "t93jnGy2yOrU"
      },
      "execution_count": 19,
      "outputs": []
    },
    {
      "cell_type": "code",
      "source": [
        "alpha1 = 0.01\n",
        "alpha2 = 0.001\n",
        "alpha3 = 0.0001\n",
        "iterations_1 = 1200\n",
        "iterations_2 = 1200\n",
        "iterations_3 = 1200\n",
        "\n",
        "w_current_alpha1, bias_current_alpha1, MSE_alpha1, ITER_alpha1  = minibatch_scratch(x_train_n, y_train_n, alpha1, iterations_1)\n",
        "\n",
        "w_current_alpha2, bias_current_alpha2, MSE_alpha2, ITER_alpha2 = minibatch_scratch(x_train_n, y_train_n, alpha2, iterations_2)\n",
        "\n",
        "w_current_alpha3, bias_current_alpha3, MSE_alpha3, ITER_alpha3 = minibatch_scratch(x_train_n, y_train_n, alpha3, iterations_3)\n",
        "\n",
        "\n",
        "x1 = ITER_alpha1\n",
        "y1 = MSE_alpha1\n",
        "x2 = ITER_alpha2\n",
        "y2 = MSE_alpha2\n",
        "\n",
        "x3 = ITER_alpha3\n",
        "y3 = MSE_alpha3\n",
        "\n",
        "plt.figure\n",
        "plt.plot(y1, label = f'alpha = {alpha1}')\n",
        "plt.plot(y2, label = f'alpha = {alpha2}')\n",
        "plt.plot(y3, label = f'alpha = {alpha3}')\n",
        "plt.xlabel('iteration')\n",
        "plt.ylabel('MSE')\n",
        "plt.legend()"
      ],
      "metadata": {
        "id": "Pk3gRstX1Fz-",
        "colab": {
          "base_uri": "https://localhost:8080/",
          "height": 297
        },
        "outputId": "3aa9395d-4942-4a54-db7f-0d404a849680"
      },
      "execution_count": 20,
      "outputs": [
        {
          "output_type": "execute_result",
          "data": {
            "text/plain": [
              "<matplotlib.legend.Legend at 0x7f7ed406e040>"
            ]
          },
          "metadata": {},
          "execution_count": 20
        },
        {
          "output_type": "display_data",
          "data": {
            "text/plain": [
              "<Figure size 432x288 with 1 Axes>"
            ],
            "image/png": "[encoded data removed]"
          },
          "metadata": {
            "needs_background": "light"
          }
        }
      ]
    },
    {
      "cell_type": "markdown",
      "source": [
        "* The algorithm is able to find the optimum weights and minimize the mean square error for different learning rates (0.1, 0.001, 0.0001).\n",
        "* 0.01 was found to be the optimal learning rate as the mean square error is lowest in this case. But the learning rate 0.001 also gives similar result."
      ],
      "metadata": {
        "id": "EMiVsu6tpud1"
      }
    },
    {
      "cell_type": "markdown",
      "source": [
        "**Part 4. Minibatch using pytorch**"
      ],
      "metadata": {
        "id": "kS-pUFJDtKVJ"
      }
    },
    {
      "cell_type": "code",
      "source": [
        "import torch\n",
        "from torch.utils.data import DataLoader, TensorDataset\n",
        "\n",
        "batch_size = 10\n",
        "\n",
        "x_train_n_p = torch.from_numpy(x_train_n).to(torch.float32)\n",
        "y_train_n_p = torch.from_numpy(y_train_n).to(torch.float32)\n",
        "\n",
        "dataset = TensorDataset(x_train_n_p, y_train_n_p)\n",
        "\n",
        "train_loader = DataLoader(dataset, batch_size, shuffle=True)\n",
        "\n",
        "\n",
        "# Defining the model\n",
        "model = torch.nn.Linear(8, 1, bias=True)\n",
        "\n",
        "# Defining the loss function: Mean Square Error\n",
        "criterion = torch.nn.MSELoss()\n",
        "\n",
        "learning_rate = 0.01\n",
        "# Optimizer: Stochastic Gradient Descent\n",
        "optimizer = torch.optim.SGD(model.parameters(), lr=learning_rate)\n",
        "num_epochs = 1000\n",
        "\n",
        "# Train the model\n",
        "loss_history = []\n",
        "\n",
        "\n",
        "for epoch in range(num_epochs):\n",
        "  for X, Y in train_loader:\n",
        "    Y_predicted = model(X)\n",
        "    loss = criterion(Y_predicted, Y)\n",
        "    \n",
        "    # Zero the gradients\n",
        "    optimizer.zero_grad()\n",
        "    \n",
        "    # Compute the gradients\n",
        "    loss.backward()\n",
        "    \n",
        "    # Update the model parameters\n",
        "  optimizer.step()\n",
        "  loss_history.append(loss.item())"
      ],
      "metadata": {
        "colab": {
          "base_uri": "https://localhost:8080/"
        },
        "id": "loJL0L1etJTd",
        "outputId": "18a6ab1a-c1fb-4b1d-c733-c6466e0ba7cd"
      },
      "execution_count": 21,
      "outputs": [
        {
          "output_type": "stream",
          "name": "stderr",
          "text": [
            "/usr/local/lib/python3.8/dist-packages/torch/nn/modules/loss.py:536: UserWarning: Using a target size (torch.Size([10])) that is different to the input size (torch.Size([10, 1])). This will likely lead to incorrect results due to broadcasting. Please ensure they have the same size.\n",
            "  return F.mse_loss(input, target, reduction=self.reduction)\n",
            "/usr/local/lib/python3.8/dist-packages/torch/nn/modules/loss.py:536: UserWarning: Using a target size (torch.Size([1])) that is different to the input size (torch.Size([1, 1])). This will likely lead to incorrect results due to broadcasting. Please ensure they have the same size.\n",
            "  return F.mse_loss(input, target, reduction=self.reduction)\n"
          ]
        }
      ]
    },
    {
      "cell_type": "code",
      "source": [
        "plt.figure;\n",
        "plt.plot(loss_history)\n",
        "plt.xlabel('iteration')\n",
        "plt.ylabel('MSE')"
      ],
      "metadata": {
        "colab": {
          "base_uri": "https://localhost:8080/",
          "height": 296
        },
        "id": "E_m6RlkIwBxJ",
        "outputId": "96ada5cc-3ac3-4d4b-8178-3ab211ba1a95"
      },
      "execution_count": 22,
      "outputs": [
        {
          "output_type": "execute_result",
          "data": {
            "text/plain": [
              "Text(0, 0.5, 'MSE')"
            ]
          },
          "metadata": {},
          "execution_count": 22
        },
        {
          "output_type": "display_data",
          "data": {
            "text/plain": [
              "<Figure size 432x288 with 1 Axes>"
            ],
            "image/png": "[encoded data removed]"
          },
          "metadata": {
            "needs_background": "light"
          }
        }
      ]
    },
    {
      "cell_type": "markdown",
      "source": [
        "* The algorithm is able to find the optimum weights and minimize the mean square error for different learning rates.\n",
        "* 0.01 was found to be the optimal learning rate as the mean square error is lowest in this case."
      ],
      "metadata": {
        "id": "JkJZQWafqSTE"
      }
    },
    {
      "cell_type": "markdown",
      "source": [],
      "metadata": {
        "id": "wNzcnp1DrQwP"
      }
    },
    {
      "cell_type": "markdown",
      "source": [],
      "metadata": {
        "id": "Y8J3GbWxrRl8"
      }
    },
    {
      "cell_type": "markdown",
      "source": [
        "##**Question 3: Gradient Descent with Momentum**\n",
        "\n",
        "\n",
        "**1.MOmentum method From Scratch**"
      ],
      "metadata": {
        "id": "T3b43Z67rTWf"
      }
    },
    {
      "cell_type": "code",
      "source": [
        "def compute_gradients(x,y,y_hat,b_0, theta_o,lr, gama,vt):\n",
        "    db=(np.sum(y_hat-y)*2)/len(y)\n",
        "    dw=(np.dot((y_hat-y),x)*2)/len(y)\n",
        "    #vt = np.zeros(1)\n",
        "    vt = gama * vt + lr * db\n",
        "    b_1 = b_0 - vt\n",
        "\n",
        "    vt = np.zeros(theta_o.shape[0])\n",
        "    vt = gama * vt + lr * dw\n",
        "    theta_1 = theta_o - vt\n",
        "    return b_1,theta_1\n",
        "\n",
        "  \n",
        "def initialize(nums):\n",
        "  b = np.random.random()\n",
        "  w = np.random.randn(nums)\n",
        "  return b,w\n",
        "\n",
        "def predict_Y(b,theta,X):\n",
        "  return b + np.dot(X,theta)\n",
        "\n",
        "#calculationg cost function:\n",
        "import math\n",
        "def get_cost(Y,Y_hat):\n",
        "  Y_resd=Y-Y_hat\n",
        "  return np.sum(np.dot(Y_resd.T,Y_resd))/len(Y-Y_resd)\n"
      ],
      "metadata": {
        "id": "TB5h3nPisJma"
      },
      "execution_count": 23,
      "outputs": []
    },
    {
      "cell_type": "code",
      "source": [
        "\n",
        "def grad_descent_momentum(X,Y,alpha, num_iterations, gama):\n",
        "    b,theta=initialize(X.shape[1])\n",
        "    iter_num=0\n",
        "    gd_iterations_df=pd.DataFrame(columns=['iteration','cost'])\n",
        "    result_idx=0\n",
        "    vt = np.zeros(1)\n",
        "    for each_iter in range(num_iterations):\n",
        "      Y_hat=predict_Y(b,theta,X)   #predict\n",
        "      this_cost=get_cost(Y,Y_hat)   #mse _loss  \n",
        "      prev_b=b\n",
        "      prev_theta=theta\n",
        "      #b,theta=update_theta(X,Y,Y_hat,prev_b,prev_theta,alpha)   #update w and b\n",
        "      b, theta = compute_gradients(X,Y,Y_hat,prev_b,prev_theta,alpha, gama,vt)\n",
        "      if(iter_num%10==0):\n",
        "        gd_iterations_df.loc[result_idx]=[iter_num,this_cost]    #adding each cost with iteration in a dataframe\n",
        "        result_idx=result_idx+1\n",
        "      iter_num +=1\n",
        "    return gd_iterations_df,b,theta,this_cost\n",
        "gd_iterations_df,b,theta, mse_loss= grad_descent_momentum(x_train_n,y_train_n,alpha=0.001,num_iterations=1000,gama = 0.9)\n",
        "print('Final Estimate of b and theta : ',b,theta)"
      ],
      "metadata": {
        "colab": {
          "base_uri": "https://localhost:8080/"
        },
        "id": "hCCSOr8xrciG",
        "outputId": "0441d541-1fb5-493e-8f3e-805b5ca319e3"
      },
      "execution_count": 24,
      "outputs": [
        {
          "output_type": "stream",
          "name": "stdout",
          "text": [
            "Final Estimate of b and theta :  [0.23114538] [ 1.18024628  0.31492872  0.46322339 -1.63956203 -1.36742792 -0.28477468\n",
            "  1.30571931  0.85169359]\n"
          ]
        }
      ]
    },
    {
      "cell_type": "code",
      "source": [
        "alpha_dfm_1,b,theta, mse_loss1=grad_descent_momentum(x_train_n,y_train_n,alpha=0.01,num_iterations=1000, gama = 0.9)\n",
        "alpha_dfm_2,b,theta, mse_loss2=grad_descent_momentum(x_train_n,y_train_n,alpha=0.001,num_iterations=1000, gama= 0.9)\n",
        "alpha_dfm_3,b,theta, mse_loss1=grad_descent_momentum(x_train_n,y_train_n,alpha=0.001,num_iterations=1000, gama = 0.9)\n",
        "plt.plot(alpha_dfm_1['iteration'],alpha_dfm_1['cost'],label='alpha=0.01 and gama = 0.9')\n",
        "plt.plot(alpha_dfm_2['iteration'],alpha_dfm_2['cost'],label='alpha=0.001 and gama = 0.9')\n",
        "plt.plot(alpha_dfm_3['iteration'],alpha_dfm_3['cost'],label='alpha=0.0001 and gama = 0.9')\n",
        "plt.legend()\n",
        "plt.ylabel('cost')\n",
        "plt.xlabel('Number of iterations')\n",
        "plt.title('Cost Vs. Iterations for different alpha values')"
      ],
      "metadata": {
        "colab": {
          "base_uri": "https://localhost:8080/",
          "height": 312
        },
        "id": "lZj-a5t3tFoq",
        "outputId": "0251cb70-acfc-4ef3-8079-12c27d4b529c"
      },
      "execution_count": 25,
      "outputs": [
        {
          "output_type": "execute_result",
          "data": {
            "text/plain": [
              "Text(0.5, 1.0, 'Cost Vs. Iterations for different alpha values')"
            ]
          },
          "metadata": {},
          "execution_count": 25
        },
        {
          "output_type": "display_data",
          "data": {
            "text/plain": [
              "<Figure size 432x288 with 1 Axes>"
            ],
            "image/png": "[encoded data removed]"
          },
          "metadata": {
            "needs_background": "light"
          }
        }
      ]
    },
    {
      "cell_type": "markdown",
      "source": [
        "**2. Momentum method using Pytorch**"
      ],
      "metadata": {
        "id": "9Y4dwVSquyOS"
      }
    },
    {
      "cell_type": "code",
      "source": [
        "from torch.utils.data import DataLoader\n",
        "#batch_size \n",
        "bs =30\n",
        "\n",
        "train_loader = DataLoader(dataset, batch_size=bs, shuffle=True)\n",
        "w_t = torch.randn(bs, 8, requires_grad=True)\n",
        "b_t = torch.randn(bs, requires_grad=True)\n",
        "print(w_t)\n",
        "print(b_t)\n",
        "\n",
        "import torch.nn as nn\n",
        "# Define model\n",
        "model = nn.Linear(bs, 8)\n",
        "print(model.weight)\n",
        "print(model.bias)\n",
        "\n",
        "\n",
        "\n",
        "def model(X):\n",
        "    return X.float() @ w_t.t() + b_t"
      ],
      "metadata": {
        "colab": {
          "base_uri": "https://localhost:8080/"
        },
        "id": "TORZl5NBvBGB",
        "outputId": "29802125-dc05-4185-bc41-18f7c387a724"
      },
      "execution_count": 26,
      "outputs": [
        {
          "output_type": "stream",
          "name": "stdout",
          "text": [
            "tensor([[-2.2098, -0.5438, -2.0270,  0.6509,  0.6026, -0.1101,  0.5524,  1.0244],\n",
            "        [-0.2732,  0.5375,  1.1700, -0.9795,  0.9917, -1.7726, -1.3071,  1.4975],\n",
            "        [-1.3475, -0.1720,  0.8366, -0.9572, -1.0975, -0.8227, -0.8450, -0.8484],\n",
            "        [-1.3893, -0.6663,  2.5039, -0.9392,  0.2464,  0.4324, -0.1441, -0.4203],\n",
            "        [-1.4309, -2.1778, -0.8047,  0.2621, -0.2079,  0.4444, -0.9434,  0.5428],\n",
            "        [-0.7417,  0.0163, -1.0804,  0.5470,  0.1495, -0.7683,  1.0713, -0.6614],\n",
            "        [ 0.1251, -0.4838, -1.1098, -0.8062,  0.4334,  0.4387,  0.4372, -1.5457],\n",
            "        [-0.0905, -0.4041,  0.6854, -1.2276,  0.4673, -2.3133, -0.5993, -1.0340],\n",
            "        [-0.5255, -1.5817, -2.3641,  1.5996, -0.1645,  1.0990, -0.1690, -0.3407],\n",
            "        [-1.1578,  0.1503,  0.1279, -0.3795,  0.9553,  0.1649,  0.0708,  1.5832],\n",
            "        [ 0.5779,  0.3434,  1.0197,  0.7624, -0.5651, -1.3486,  0.1908,  0.5397],\n",
            "        [ 0.7844,  0.0963,  0.1575, -0.6195, -0.8333, -1.7531,  1.3905,  1.7934],\n",
            "        [-0.8598, -0.3705, -0.7186,  0.0617, -1.1573,  0.7138, -0.0530,  0.0752],\n",
            "        [ 0.9905, -0.7967,  1.0910, -0.4395, -0.1983,  0.1777,  0.4918, -0.5856],\n",
            "        [ 2.2874, -0.2057,  1.4925,  1.1030,  0.3236, -1.1061,  0.6161, -1.3921],\n",
            "        [ 0.0672, -0.9163,  0.2676, -2.5382,  0.4976, -0.1097,  0.3651, -1.6946],\n",
            "        [-0.2645, -0.3795, -0.5225,  0.8074,  1.0930,  0.0147, -0.1207, -1.1149],\n",
            "        [ 3.0759,  1.7465, -0.7069,  0.6330, -0.0701,  0.4377,  0.5889,  0.6607],\n",
            "        [-0.2434, -0.7831,  1.6405,  0.6596, -0.2683,  0.3615,  1.1190,  0.4905],\n",
            "        [ 0.8474,  0.8601, -1.3443, -0.2933, -1.1905, -1.6441,  0.1774, -0.7317],\n",
            "        [-1.3102, -0.0762,  0.4396,  1.4391,  0.2801, -0.2038,  0.4860, -0.3204],\n",
            "        [-0.6511,  0.6962, -0.4216,  0.6422, -0.1860,  0.6977, -0.5013,  0.8834],\n",
            "        [-0.0259,  2.0311,  1.4903, -1.7365, -1.0900, -0.5760, -0.2249,  1.2979],\n",
            "        [ 0.5988,  0.0212, -1.2161, -0.1889,  0.7949,  0.5127, -1.1614, -0.6390],\n",
            "        [ 1.1127,  0.3752, -0.0092,  0.1504,  1.0565,  0.3698,  0.6163, -1.0445],\n",
            "        [ 1.2089, -0.2642, -1.5249, -2.9554,  2.2737, -0.3358,  0.7418,  0.9815],\n",
            "        [ 0.1022,  0.8533, -1.8143, -1.6475,  0.8438,  0.2264,  0.7980, -0.3481],\n",
            "        [-0.1470,  1.6415, -0.7352,  0.9269,  0.5163, -0.9472, -2.7371,  0.9334],\n",
            "        [-0.0799,  1.7488, -0.5762,  0.1591,  1.4759, -0.1797, -0.4215, -0.2369],\n",
            "        [ 0.6307, -0.4907, -0.2847, -0.6350,  1.5123,  2.0515,  0.6102, -0.2363]],\n",
            "       requires_grad=True)\n",
            "tensor([-0.5980, -0.3860,  0.8318,  1.9783,  0.7442,  0.9175,  0.9168, -0.1076,\n",
            "         0.8198, -0.4763, -1.0986, -0.8955, -1.0843, -0.1037, -0.4305, -0.3532,\n",
            "        -1.3952, -0.3654,  0.0455, -1.0660,  0.6454,  1.7426,  0.2334, -0.5098,\n",
            "         0.2958,  0.4101,  0.9080, -0.0343,  0.1561, -0.6189],\n",
            "       requires_grad=True)\n",
            "Parameter containing:\n",
            "tensor([[-0.1337, -0.1620, -0.0751,  0.0564,  0.1528, -0.0090, -0.1766, -0.1145,\n",
            "          0.0838, -0.0166, -0.0827,  0.1106,  0.0873, -0.1294, -0.0251,  0.1051,\n",
            "          0.0769,  0.0511, -0.0704,  0.0964, -0.1220,  0.0834, -0.1367,  0.0397,\n",
            "         -0.0280,  0.1221, -0.1309,  0.1279,  0.1438,  0.0750],\n",
            "        [ 0.1273, -0.0338, -0.0155,  0.0834,  0.0540,  0.0358, -0.1348, -0.1003,\n",
            "          0.0879, -0.0432,  0.1131,  0.0647,  0.0487, -0.0369, -0.0614,  0.0509,\n",
            "         -0.0865,  0.0552,  0.0725, -0.1539,  0.0083, -0.0721,  0.0919, -0.1366,\n",
            "         -0.0806,  0.0498,  0.0007, -0.0403, -0.1154, -0.0294],\n",
            "        [ 0.0170,  0.1033, -0.1575,  0.0117,  0.0693, -0.0106, -0.1581, -0.1486,\n",
            "         -0.1247, -0.1810,  0.1102, -0.1000, -0.1190, -0.0620,  0.0410,  0.1465,\n",
            "         -0.0699, -0.0492, -0.0863, -0.0153,  0.0046,  0.0143, -0.0009, -0.0770,\n",
            "         -0.1395, -0.0645, -0.1650, -0.1411,  0.0572, -0.0189],\n",
            "        [-0.0406,  0.0467,  0.0007,  0.0023,  0.0172, -0.0207,  0.0156, -0.1380,\n",
            "         -0.0886,  0.1005,  0.1804, -0.1364, -0.1005, -0.1097, -0.0245, -0.0865,\n",
            "         -0.1374,  0.0037, -0.0052, -0.1575, -0.1677, -0.1154, -0.0176,  0.0315,\n",
            "          0.1390, -0.0706,  0.1274,  0.1035,  0.0756,  0.0364],\n",
            "        [ 0.0575,  0.0571, -0.0835,  0.0368,  0.1363,  0.0555, -0.1458,  0.0214,\n",
            "         -0.0066, -0.1048,  0.0241, -0.1224, -0.0858,  0.1470,  0.1587,  0.1552,\n",
            "          0.0695,  0.0017, -0.0061, -0.0690, -0.0509,  0.0762,  0.0658, -0.0273,\n",
            "         -0.0828, -0.1765,  0.0114, -0.1633, -0.0981, -0.1280],\n",
            "        [-0.1018,  0.1057,  0.0205,  0.1128,  0.0716, -0.1168,  0.1301, -0.0925,\n",
            "          0.0587, -0.0064, -0.0966,  0.1207, -0.0962,  0.1310,  0.0008,  0.0471,\n",
            "         -0.1440, -0.1148,  0.0770,  0.1520, -0.1209, -0.0233, -0.1044,  0.0746,\n",
            "         -0.0056,  0.0974,  0.1062, -0.0538,  0.1266,  0.1266],\n",
            "        [ 0.0235,  0.0794,  0.0363, -0.0039, -0.0716, -0.0994, -0.0898,  0.0712,\n",
            "          0.1742, -0.1158,  0.1515, -0.0078,  0.1772, -0.1222, -0.1776, -0.0557,\n",
            "          0.1447,  0.1032,  0.0069, -0.1093,  0.1099,  0.1333,  0.1605, -0.0982,\n",
            "          0.1657, -0.0932,  0.0487,  0.0123, -0.0433,  0.1816],\n",
            "        [ 0.0658, -0.0287,  0.0362,  0.1433,  0.0733,  0.1259,  0.1808, -0.0227,\n",
            "         -0.0404,  0.0093, -0.0215, -0.1417, -0.0327,  0.0964, -0.0100,  0.0846,\n",
            "          0.0985,  0.1289,  0.1764,  0.0893, -0.0422, -0.0678,  0.1462,  0.0683,\n",
            "          0.1811, -0.1454, -0.0930,  0.1285, -0.1014,  0.1435]],\n",
            "       requires_grad=True)\n",
            "Parameter containing:\n",
            "tensor([-0.0959, -0.0345,  0.0772,  0.0872,  0.0741, -0.1174,  0.0079,  0.0044],\n",
            "       requires_grad=True)\n"
          ]
        }
      ]
    },
    {
      "cell_type": "code",
      "source": [
        "# Import nn.functional\n",
        "import torch.nn.functional as F"
      ],
      "metadata": {
        "id": "mnWStznsws4x"
      },
      "execution_count": 27,
      "outputs": []
    },
    {
      "cell_type": "code",
      "source": [
        "# Utility function to train the model\n",
        "def fit(num_epochs, model, loss_fn, opt):\n",
        "    loss_val= []\n",
        "    running_loss = 0.0\n",
        "    # Repeat for given number of epochs\n",
        "    for epoch in range(num_epochs):\n",
        "        \n",
        "        # Train with batches of data\n",
        "        for xb,yb in train_loader:\n",
        "            \n",
        "            # 1. Generate predictions\n",
        "            pred = model(xb)\n",
        "            \n",
        "            # 2. Calculate loss\n",
        "            #loss = loss_fn(pred, yb)\n",
        "            loss = mse_loss(pred, yb.view(1,-1))\n",
        "            \n",
        "            # 3. Compute gradients\n",
        "            loss.backward()\n",
        "            \n",
        "            # 4. Update parameters using gradients\n",
        "\n",
        "            #opt = torch.optim.SGD(model.parameters(), lr=0.1, momentum=0.9)\n",
        "            #optimizer.zero_grad()\n",
        "            #loss_fn(model(input), target).backward()\n",
        "            #optimizer.step()\n",
        "            opt.step()\n",
        "            \n",
        "            # 5. Reset the gradients to zero\n",
        "            opt.zero_grad()\n",
        "\n",
        "            running_loss = loss.item() \n",
        "\n",
        "        loss_val.append(running_loss)\n",
        "\n",
        "\n",
        "        \n",
        "        # Print the progress\n",
        "        #if (epoch+1) % 100 == 0:\n",
        "            #print('Epoch [{}/{}], Loss: {:.4f}'.format(epoch+1, num_epochs, loss.item()))\n",
        "    plt.figure;\n",
        "    plt.plot(loss_val)\n",
        "    plt.xlabel('iteration')\n",
        "    plt.ylabel('MSE')\n",
        "    #return loss_val"
      ],
      "metadata": {
        "id": "eJKRicIGxJdH"
      },
      "execution_count": 28,
      "outputs": []
    },
    {
      "cell_type": "code",
      "source": [
        "# Define model\n",
        "model = nn.Linear(bs, 8)\n",
        "print(model.weight)\n",
        "print(model.bias)\n",
        "opt = torch.optim.SGD(model.parameters(), lr=0.01, momentum=0.1)"
      ],
      "metadata": {
        "id": "7t23u86_xVxo",
        "colab": {
          "base_uri": "https://localhost:8080/"
        },
        "outputId": "be29e9ff-ebb2-4eac-83e2-fa244740733a"
      },
      "execution_count": 29,
      "outputs": [
        {
          "output_type": "stream",
          "name": "stdout",
          "text": [
            "Parameter containing:\n",
            "tensor([[ 0.0457,  0.1685, -0.1699, -0.0828,  0.0102, -0.1755, -0.1491, -0.0877,\n",
            "          0.0751, -0.0654, -0.1382, -0.1147,  0.0907, -0.1580, -0.0935,  0.1287,\n",
            "          0.1022,  0.1554, -0.1664,  0.0793,  0.0765,  0.0182, -0.1288,  0.0761,\n",
            "          0.0778,  0.1797,  0.1139, -0.1498, -0.0248,  0.1342],\n",
            "        [ 0.1412,  0.0111, -0.0842,  0.0138,  0.0644, -0.1453, -0.1006, -0.1675,\n",
            "         -0.1347, -0.1230,  0.1459,  0.1140,  0.0161,  0.0120, -0.1347, -0.1564,\n",
            "         -0.1824, -0.1621,  0.0233, -0.0853,  0.1389,  0.0095, -0.1716,  0.1158,\n",
            "         -0.1269, -0.0271, -0.0741, -0.0250, -0.0247, -0.1813],\n",
            "        [ 0.1779, -0.1459, -0.1559, -0.0110, -0.1029,  0.1279, -0.1633, -0.1650,\n",
            "          0.0388,  0.0921,  0.1645, -0.0859,  0.0131, -0.0132,  0.0054, -0.0958,\n",
            "          0.0589,  0.0602, -0.1723,  0.1419,  0.0999, -0.0902,  0.1253, -0.1787,\n",
            "         -0.0646, -0.1726,  0.0109, -0.1216, -0.1624,  0.0265],\n",
            "        [ 0.0541, -0.1752, -0.1278, -0.0119, -0.1480,  0.0652,  0.0342,  0.1349,\n",
            "          0.1129,  0.1388, -0.1708,  0.1617,  0.1557,  0.0818, -0.0424, -0.1646,\n",
            "         -0.1442, -0.1785, -0.0931,  0.0211, -0.1115, -0.1571,  0.0791,  0.0425,\n",
            "          0.1320, -0.1061, -0.1276,  0.0802,  0.0970, -0.0107],\n",
            "        [ 0.0301, -0.1050, -0.1279,  0.0247, -0.1180, -0.0473,  0.1614, -0.1261,\n",
            "          0.0365,  0.0389, -0.1137,  0.1019,  0.0908,  0.0267, -0.1720,  0.0917,\n",
            "         -0.1218,  0.1636, -0.1524,  0.0030, -0.1254, -0.0115,  0.1231,  0.1744,\n",
            "          0.1171, -0.0546,  0.1334, -0.1392, -0.0106,  0.0402],\n",
            "        [ 0.1640, -0.0313, -0.1122, -0.0692, -0.0679, -0.0065, -0.1525,  0.0446,\n",
            "          0.0689, -0.1269,  0.0859,  0.0875, -0.0066,  0.1099, -0.1629, -0.1817,\n",
            "          0.1659,  0.1496,  0.1197, -0.0828, -0.1116, -0.0705, -0.0212,  0.0852,\n",
            "          0.0330, -0.1470,  0.0634, -0.0966, -0.1557,  0.1675],\n",
            "        [ 0.1279, -0.0834,  0.1373, -0.0115,  0.0604,  0.0965,  0.1280, -0.0285,\n",
            "          0.0042, -0.0313, -0.0026,  0.0585,  0.1760,  0.1691, -0.1219,  0.1579,\n",
            "         -0.0103,  0.1684, -0.1567, -0.0423, -0.1284, -0.0005,  0.1072, -0.1285,\n",
            "          0.0196, -0.0883, -0.0790, -0.1368, -0.1670, -0.1454],\n",
            "        [ 0.1405,  0.0414, -0.0902, -0.1050, -0.0891,  0.1541, -0.1067, -0.1560,\n",
            "          0.0818,  0.1305, -0.0256,  0.0565,  0.1164,  0.1807, -0.1224, -0.0601,\n",
            "          0.0777, -0.0908, -0.1428, -0.0452, -0.0094, -0.0690, -0.1123,  0.0256,\n",
            "         -0.0308,  0.1376,  0.0243,  0.0610, -0.0766, -0.1595]],\n",
            "       requires_grad=True)\n",
            "Parameter containing:\n",
            "tensor([ 0.0067, -0.1482, -0.0723,  0.1001, -0.0665, -0.1765,  0.0303,  0.0612],\n",
            "       requires_grad=True)\n"
          ]
        }
      ]
    },
    {
      "cell_type": "code",
      "source": [
        "def mse_loss(predictions, targets):\n",
        "    difference = predictions - targets\n",
        "    return torch.sum(difference * difference)/ difference.numel()"
      ],
      "metadata": {
        "id": "EODFyykhdIoh"
      },
      "execution_count": 30,
      "outputs": []
    },
    {
      "cell_type": "code",
      "source": [
        "def model(X):\n",
        "    return X.float() @ w_t.t() + b_t"
      ],
      "metadata": {
        "id": "T3-xLuxaw33a"
      },
      "execution_count": 31,
      "outputs": []
    },
    {
      "cell_type": "code",
      "source": [
        "fit(5000, model, loss, opt)"
      ],
      "metadata": {
        "colab": {
          "base_uri": "https://localhost:8080/",
          "height": 279
        },
        "id": "79fwrdTq0M6z",
        "outputId": "20700420-42ba-4c26-b8d7-38461bb931e4"
      },
      "execution_count": 32,
      "outputs": [
        {
          "output_type": "display_data",
          "data": {
            "text/plain": [
              "<Figure size 432x288 with 1 Axes>"
            ],
            "image/png": "[encoded data removed]"
          },
          "metadata": {
            "needs_background": "light"
          }
        }
      ]
    },
    {
      "cell_type": "markdown",
      "source": [
        "**Comparison between From scratch method and Pytorch Method**\n",
        "\n",
        "Pytorch Method introduced more vairation in the MSE. But the predictions are coming closer to the actual values. However both approaches try to gain the minimal error."
      ],
      "metadata": {
        "id": "XtoghLFk07hl"
      }
    },
    {
      "cell_type": "markdown",
      "source": [
        "## **Question 4**\n",
        "\n",
        "1.Nesterov: Pytorch method"
      ],
      "metadata": {
        "id": "NztbBk4wzHwV"
      }
    },
    {
      "cell_type": "code",
      "source": [
        "# Define model\n",
        "bs = 30\n",
        "model = nn.Linear(bs, 8)\n",
        "print(model.weight)\n",
        "print(model.bias)"
      ],
      "metadata": {
        "colab": {
          "base_uri": "https://localhost:8080/"
        },
        "id": "9dQ3sFwQbNcg",
        "outputId": "dc4ce51d-d142-4a7b-c328-c480af55fba1"
      },
      "execution_count": 33,
      "outputs": [
        {
          "output_type": "stream",
          "name": "stdout",
          "text": [
            "Parameter containing:\n",
            "tensor([[-0.0664,  0.1561, -0.1661,  0.0557, -0.0856, -0.1116,  0.1182,  0.1494,\n",
            "         -0.0566,  0.0704, -0.0619,  0.1219, -0.1244, -0.1662, -0.0629,  0.0232,\n",
            "          0.0535,  0.1816,  0.1607, -0.1714, -0.0178, -0.1084,  0.0746, -0.1784,\n",
            "         -0.0356,  0.1472, -0.0744, -0.1431,  0.1550, -0.0289],\n",
            "        [-0.0460,  0.0145,  0.1541, -0.0107, -0.0783, -0.1044,  0.1466, -0.0245,\n",
            "          0.1647,  0.1229, -0.1307,  0.0287, -0.0489,  0.0128,  0.0484, -0.1493,\n",
            "          0.1274, -0.0857, -0.1512, -0.1181, -0.0924, -0.0827,  0.1796,  0.1647,\n",
            "         -0.1765, -0.0333, -0.1714,  0.0302, -0.0828, -0.0573],\n",
            "        [ 0.1376,  0.0366,  0.0288, -0.1746,  0.0034,  0.1425, -0.1272,  0.0075,\n",
            "          0.0622,  0.0196,  0.1509,  0.0368,  0.1671, -0.1000, -0.1077,  0.0907,\n",
            "          0.1796, -0.0934, -0.0618,  0.0658, -0.0148, -0.0257, -0.0169, -0.1690,\n",
            "         -0.1472,  0.0337, -0.1373, -0.1258,  0.0581, -0.0754],\n",
            "        [-0.1743, -0.1540,  0.0704, -0.0284,  0.1041, -0.0784, -0.0550,  0.1257,\n",
            "         -0.0235,  0.0774, -0.0925,  0.1456, -0.0183, -0.1733, -0.0914, -0.0534,\n",
            "          0.1771,  0.1309, -0.1556, -0.1075, -0.0520,  0.0841, -0.1032, -0.0825,\n",
            "         -0.1475, -0.1382, -0.0634,  0.1662,  0.1282, -0.0071],\n",
            "        [-0.1374, -0.1737,  0.0200, -0.0372,  0.0024, -0.0322, -0.0206,  0.0720,\n",
            "          0.0040, -0.0546,  0.1531, -0.1360,  0.0378,  0.1818, -0.0432, -0.1295,\n",
            "          0.0340,  0.1360,  0.0067,  0.1758, -0.1818, -0.0239, -0.1177, -0.1741,\n",
            "         -0.0711, -0.1044, -0.1134,  0.1412, -0.1543,  0.0565],\n",
            "        [ 0.0154,  0.0324, -0.1638,  0.1090,  0.0368,  0.1507, -0.0345,  0.0217,\n",
            "         -0.0666,  0.0465,  0.1513, -0.0413, -0.0891, -0.1143,  0.1438,  0.0391,\n",
            "          0.0900,  0.1625,  0.0761,  0.0664, -0.1747,  0.0173,  0.0934,  0.0640,\n",
            "         -0.1457, -0.0718, -0.0689, -0.0847, -0.1388,  0.0054],\n",
            "        [ 0.0478,  0.1312,  0.0143, -0.1361, -0.0426,  0.0947,  0.1479,  0.0510,\n",
            "          0.0122,  0.0514,  0.1191, -0.0167,  0.1314,  0.1524,  0.1489, -0.0063,\n",
            "          0.0386,  0.1328, -0.1058, -0.1057,  0.1085, -0.0460, -0.1467,  0.0660,\n",
            "         -0.0899, -0.0896,  0.1291, -0.1111,  0.0330,  0.0737],\n",
            "        [-0.0201,  0.1433,  0.1540, -0.0034,  0.0431,  0.1522,  0.1026, -0.1670,\n",
            "         -0.0635,  0.1435, -0.0083,  0.0066,  0.0481,  0.0856,  0.0574,  0.0211,\n",
            "          0.1170, -0.0322,  0.1123,  0.1271, -0.1387,  0.0430, -0.0165, -0.1391,\n",
            "          0.1161, -0.0897, -0.1504,  0.0986, -0.1051,  0.0728]],\n",
            "       requires_grad=True)\n",
            "Parameter containing:\n",
            "tensor([ 0.0732, -0.1440,  0.0643,  0.1580,  0.0163, -0.0403, -0.1713, -0.0016],\n",
            "       requires_grad=True)\n"
          ]
        }
      ]
    },
    {
      "cell_type": "code",
      "source": [
        "opt_na = torch.optim.SGD(model.parameters(), lr=0.1, momentum=0.9, nesterov=True)"
      ],
      "metadata": {
        "id": "yOA3jYWpyg-0"
      },
      "execution_count": 34,
      "outputs": []
    },
    {
      "cell_type": "code",
      "source": [
        "def model(X):\n",
        "    return X.float() @ w_t.t() + b_t"
      ],
      "metadata": {
        "id": "1M5bjNoibH9p"
      },
      "execution_count": 35,
      "outputs": []
    },
    {
      "cell_type": "code",
      "source": [
        "def mse_loss(predictions, targets):\n",
        "    difference = predictions - targets\n",
        "    return torch.sum(difference * difference)/ difference.numel()"
      ],
      "metadata": {
        "id": "g-UHJMkFhS7c"
      },
      "execution_count": 36,
      "outputs": []
    },
    {
      "cell_type": "code",
      "source": [
        "loss_values_nes=fit(1000, model, loss, opt_na)"
      ],
      "metadata": {
        "colab": {
          "base_uri": "https://localhost:8080/",
          "height": 279
        },
        "id": "azYJgLL-kZPq",
        "outputId": "3415527f-1c52-4510-b16e-0ecb7a97a763"
      },
      "execution_count": 37,
      "outputs": [
        {
          "output_type": "display_data",
          "data": {
            "text/plain": [
              "<Figure size 432x288 with 1 Axes>"
            ],
            "image/png": "[encoded data removed]"
          },
          "metadata": {
            "needs_background": "light"
          }
        }
      ]
    },
    {
      "cell_type": "markdown",
      "source": [
        "nestrov from scratch"
      ],
      "metadata": {
        "id": "HIcQfgn1mLI9"
      }
    },
    {
      "cell_type": "code",
      "source": [
        "def compute_gradients_nestrov(x,y,y_hat,b_0, theta_o,lr, gama,vt,vtt):\n",
        "    db=(np.sum(y_hat-y)*2)/len(y)\n",
        "    dw=(np.dot((y_hat-y),x)*2)/len(y)\n",
        "    \n",
        "    vt = gama * vt + lr * db   #vt =  update\n",
        "    b_1 = b_0 - vt\n",
        "\n",
        "    theta_lah = theta_o - gama*vtt\n",
        "    #vt = np.zeros(theta_o.shape[0])\n",
        "    vtt = gama * vtt + lr * dw\n",
        "    theta_1 = theta_o - vtt\n",
        "    return b_1,theta_1"
      ],
      "metadata": {
        "id": "YCfAksjKmI4T"
      },
      "execution_count": 45,
      "outputs": []
    },
    {
      "cell_type": "code",
      "source": [
        "b,theta=initialize(x_train.shape[1])"
      ],
      "metadata": {
        "id": "Tr3HV6PAmjmu"
      },
      "execution_count": 46,
      "outputs": []
    },
    {
      "cell_type": "code",
      "source": [
        "Y_hat=predict_Y(b,theta,x_train)"
      ],
      "metadata": {
        "id": "l8IJAZLCmkeu"
      },
      "execution_count": 47,
      "outputs": []
    },
    {
      "cell_type": "code",
      "source": [
        "def run_gradient_descent_nestrov(X,Y,alpha, num_iterations, gama):\n",
        "    b,theta=initialize(X.shape[1])\n",
        "    iter_num=0\n",
        "    gd_iterations_df=pd.DataFrame(columns=['iteration','cost'])\n",
        "    result_idx=0\n",
        "    vt = np.zeros(1)\n",
        "    vtt = np.zeros(8)\n",
        "    for each_iter in range(num_iterations):\n",
        "      Y_hat=predict_Y(b,theta,X)   #predict\n",
        "      this_cost=get_cost(Y,Y_hat)   #mse _loss  \n",
        "      prev_b=b\n",
        "      prev_theta=theta\n",
        "      #b,theta=update_theta(X,Y,Y_hat,prev_b,prev_theta,alpha)   #update w and b\n",
        "      b, theta = compute_gradients_nestrov(X,Y,Y_hat,prev_b,prev_theta,alpha, gama,vt,vtt)\n",
        "      if(iter_num%10==0):\n",
        "        gd_iterations_df.loc[result_idx]=[iter_num,this_cost]    #adding each cost with iteration in a dataframe\n",
        "        result_idx=result_idx+1\n",
        "      iter_num +=1\n",
        "     # print('Final Estimate of b and theta : ',b,theta)\n",
        "    return gd_iterations_df,b,theta,this_cost\n"
      ],
      "metadata": {
        "id": "7kslAt_UmkaC"
      },
      "execution_count": 48,
      "outputs": []
    },
    {
      "cell_type": "code",
      "source": [
        "alpha_dfm_1,b,theta, mse_loss1=run_gradient_descent_nestrov(x_train_n,y_train_n,alpha=0.01,num_iterations=10000, gama = 0.9)\n",
        "alpha_dfm_2,b,theta, mse_loss2=run_gradient_descent_nestrov(x_train_n,y_train_n,alpha=0.001,num_iterations=10000, gama= 0.9)\n",
        "alpha_dfm_3,b,theta, mse_loss1=run_gradient_descent_nestrov(x_train_n,y_train_n,alpha=0.0001,num_iterations=10000, gama = 0.9)\n",
        "\n",
        "plt.plot(alpha_dfm_1['iteration'],alpha_dfm_1['cost'],label='alpha=0.01 and gama = 0.9')\n",
        "plt.plot(alpha_dfm_2['iteration'],alpha_dfm_2['cost'],label='alpha=0.001 and gama = 0.9')\n",
        "plt.plot(alpha_dfm_3['iteration'],alpha_dfm_3['cost'],label='alpha=0.0001 and gama = 0.9')\n",
        "plt.legend()\n",
        "plt.ylabel('cost')\n",
        "plt.xlabel('Number of iterations')\n",
        "plt.title('Cost Vs. Iterations for different alpha values')"
      ],
      "metadata": {
        "colab": {
          "base_uri": "https://localhost:8080/",
          "height": 312
        },
        "id": "wCkeFyc4Rfm6",
        "outputId": "1230d230-1c1b-4108-ee22-6cc868af3149"
      },
      "execution_count": 49,
      "outputs": [
        {
          "output_type": "execute_result",
          "data": {
            "text/plain": [
              "Text(0.5, 1.0, 'Cost Vs. Iterations for different alpha values')"
            ]
          },
          "metadata": {},
          "execution_count": 49
        },
        {
          "output_type": "display_data",
          "data": {
            "text/plain": [
              "<Figure size 432x288 with 1 Axes>"
            ],
            "image/png": "[encoded data removed]"
          },
          "metadata": {
            "needs_background": "light"
          }
        }
      ]
    },
    {
      "cell_type": "markdown",
      "source": [
        "**Comparison between From scratch method and Pytorch Method**\n",
        "\n",
        "Pytorch Method introduced more vairation in the MSE. But the predictions are coming closer to the actual values. However both approaches try to gain the minimal error."
      ],
      "metadata": {
        "id": "wTTnJmSJ5x67"
      }
    }
  ]
}